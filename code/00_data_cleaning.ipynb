{
 "cells": [
  {
   "cell_type": "code",
   "execution_count": 71,
   "id": "0f7e317f-683e-4099-aa36-a48ad007af45",
   "metadata": {},
   "outputs": [],
   "source": [
    "import pandas as pd\n",
    "import numpy as np\n",
    "from ipywidgets import interact\n",
    "import matplotlib.pyplot as plt"
   ]
  },
  {
   "cell_type": "code",
   "execution_count": 72,
   "id": "6a74854c-9225-4a40-9cf1-58cf49d4e595",
   "metadata": {},
   "outputs": [],
   "source": [
    "def simplify_column_names( df: pd.DataFrame, col_names: list, prefixes: list) -> pd.DataFrame:\n",
    "    '''\n",
    "    For a given dataframe, renames lists of column names with a shared prefix and applies a sequential counter after each prefix.\n",
    "\n",
    "    Example: In dataframe df, columns groups [['hello', 'world'], ['foo','bar']], prefixes ['a','b'] would yield new column names\n",
    "    a_1, a_2, b_1, b_2\n",
    "    '''\n",
    "    for c, p in zip(col_names, prefixes):\n",
    "        rename_map = { i : f\"{p}_{str(c.index(i) + 1)}\" for i in c}\n",
    "        df.rename(rename_map, axis=1, inplace=True )\n",
    "    \n",
    "    return df"
   ]
  },
  {
   "cell_type": "code",
   "execution_count": 73,
   "id": "c580102a-03e4-4591-afa6-a0f3abe77435",
   "metadata": {},
   "outputs": [],
   "source": [
    "def strip_chars(string : str):\n",
    "    '''\n",
    "    Strips all non-numeric characters and returns the rest as a single int\n",
    "    '''\n",
    "    string = string.replace('%','')\n",
    "    if string == 'NA':\n",
    "        return 'NA'\n",
    "    res = ''.join([i for i in string.split() if i.isdigit()])\n",
    "    if res:\n",
    "        return int(''.join([i for i in string.split() if i.isdigit()]))\n",
    "    else:\n",
    "        return 0"
   ]
  },
  {
   "cell_type": "code",
   "execution_count": 74,
   "id": "ce75c7b5-e59c-42b2-bf83-e2082135318a",
   "metadata": {},
   "outputs": [],
   "source": [
    "def convert_to_percentage_with_negatives(string : str):\n",
    "    '''\n",
    "    Strips all non-numeric characters and returns the rest as a single int\n",
    "    '''\n",
    "    if string == 'NA':\n",
    "        return 'NA'\n",
    "    string = string.replace('%','')\n",
    "    modifier = -1 if 'less' in string else 1\n",
    "    res = ''.join([i for i in string.split() if i.isdigit()])\n",
    "    if res:\n",
    "        return int(''.join([i for i in string.split() if i.isdigit()])) * modifier\n",
    "    else:\n",
    "        return 0"
   ]
  },
  {
   "cell_type": "code",
   "execution_count": 75,
   "id": "9a517a80-90aa-4cbd-9d26-4fde4eef4d51",
   "metadata": {},
   "outputs": [],
   "source": [
    "strong_disagree_strong_agree_map = {\n",
    "    'Strongly disagree' : -2,\n",
    "    'Somewhat disagree' : -1,\n",
    "    'Neither agree nor disagree' : 0,\n",
    "    'Somewhat agree' : 1,\n",
    "    'Strongly agree' : 2,\n",
    "    'NA' : 'NA'\n",
    "}\n",
    "\n",
    "\n",
    "def encode_ordinal(string : str, ordinal_map = strong_disagree_strong_agree_map) -> int:\n",
    "    '''\n",
    "    Converts common ordinal responses to representations based on given map\n",
    "\n",
    "    string : str\n",
    "        string to be evaluated and converted to a different representation based on the map\n",
    "    ordinal_map : dict\n",
    "        a dict with strings as keys, representations as values. Key evaluation is case-sensitive\n",
    "    '''\n",
    "    # print(f\"Evaluating: |{string}|\")\n",
    "    if ordinal_map.get(string) or ordinal_map.get(string) == 0:\n",
    "        return ordinal_map[string]\n",
    "    else:\n",
    "        print('Unknown response found')\n",
    "        return 'Unknown'\n"
   ]
  },
  {
   "cell_type": "code",
   "execution_count": null,
   "id": "da8cdd1d-5850-47ca-bc70-6600e8ef8bbc",
   "metadata": {},
   "outputs": [],
   "source": []
  },
  {
   "cell_type": "code",
   "execution_count": null,
   "id": "25fd5609-1c4c-4b79-a666-c242b35ea38f",
   "metadata": {},
   "outputs": [],
   "source": []
  },
  {
   "cell_type": "code",
   "execution_count": 76,
   "id": "4650744e-9c0b-4c90-8a7b-41a911bd5d79",
   "metadata": {},
   "outputs": [],
   "source": [
    "pd.set_option('display.max_colwidth', None)"
   ]
  },
  {
   "cell_type": "code",
   "execution_count": 77,
   "id": "52a7f2cb-dec4-42ff-a5fb-390535a7705b",
   "metadata": {},
   "outputs": [],
   "source": [
    "data_dir = '../data/'"
   ]
  },
  {
   "cell_type": "code",
   "execution_count": 78,
   "id": "224fb70c-2e9a-491e-8b28-d6d41786ba00",
   "metadata": {},
   "outputs": [],
   "source": [
    "raw_data = pd.read_csv(data_dir + '2021_rws.csv', encoding='cp1252')"
   ]
  },
  {
   "cell_type": "code",
   "execution_count": 79,
   "id": "3c378186-01ee-45ef-98f4-bda3185983e9",
   "metadata": {},
   "outputs": [
    {
     "data": {
      "text/plain": [
       "(1512, 109)"
      ]
     },
     "execution_count": 79,
     "metadata": {},
     "output_type": "execute_result"
    }
   ],
   "source": [
    "raw_data.shape"
   ]
  },
  {
   "cell_type": "markdown",
   "id": "5cc526eb-4d09-42b4-a0b9-f9f930bd37f8",
   "metadata": {},
   "source": [
    "Drop columns we know we will not be examining\n",
    "\n",
    "- Columns pertaining to collaborating remotely with onsite employees (column indices 65-92)"
   ]
  },
  {
   "cell_type": "code",
   "execution_count": null,
   "id": "0a433800-f506-45d8-8f6c-e71176efe124",
   "metadata": {},
   "outputs": [],
   "source": []
  },
  {
   "cell_type": "code",
   "execution_count": 80,
   "id": "a61379ec-49eb-4f94-b69f-2d370ae4a26d",
   "metadata": {},
   "outputs": [],
   "source": [
    "remote_onsite_cols = raw_data.columns[65:93]"
   ]
  },
  {
   "cell_type": "code",
   "execution_count": 81,
   "id": "0bcd8810-e59e-4208-873c-988b5f3dbd64",
   "metadata": {},
   "outputs": [],
   "source": [
    "df = raw_data.drop( columns= remote_onsite_cols)"
   ]
  },
  {
   "cell_type": "code",
   "execution_count": 82,
   "id": "852e2423-f5d8-4cde-90ec-d0a75e5402bb",
   "metadata": {},
   "outputs": [
    {
     "data": {
      "text/plain": [
       "(1512, 81)"
      ]
     },
     "execution_count": 82,
     "metadata": {},
     "output_type": "execute_result"
    }
   ],
   "source": [
    "df.shape"
   ]
  },
  {
   "cell_type": "markdown",
   "id": "624a50ce-2e70-4ef3-a137-c18aabc6d9a9",
   "metadata": {},
   "source": [
    "Trim leading/trailing whitespace in columns"
   ]
  },
  {
   "cell_type": "code",
   "execution_count": 83,
   "id": "2bc903e2-f1aa-407d-a976-aea18d443c33",
   "metadata": {},
   "outputs": [],
   "source": [
    "column_name_trimmed = { k : k.strip() for k in df.columns}\n",
    "df.rename(column_name_trimmed, axis=1, inplace=True)"
   ]
  },
  {
   "cell_type": "code",
   "execution_count": 84,
   "id": "3daff5fb-4323-472d-a3f7-a09700bad278",
   "metadata": {},
   "outputs": [],
   "source": [
    "cols = list(df.columns)"
   ]
  },
  {
   "cell_type": "markdown",
   "id": "437417c0-5214-4cb6-af46-ad37de2d8c0a",
   "metadata": {},
   "source": [
    "Renaming columns from original survey questions to more workable column names"
   ]
  },
  {
   "cell_type": "code",
   "execution_count": 85,
   "id": "c0068de2-a0fc-4a17-a108-a9b96230bff8",
   "metadata": {},
   "outputs": [],
   "source": [
    "# Columns indices from column mapping file\n",
    "# Values maintained as lists to support simplify_column_names function\n",
    "column_map = {\n",
    "    'demographics' : cols[1:4] + cols[7:9],\n",
    "    'company' : cols[4:7],\n",
    "    'remote_work_time' : cols[9:14],\n",
    "    'remote_policy' : cols[14:15] + cols[18:25],\n",
    "    'split_work_day' : cols[15:18],\n",
    "    'remote_culture' : cols[25:37],\n",
    "    'use_of_time_onsite' : cols[37:42],\n",
    "    'use_of_time_remote' : cols[42:47],\n",
    "    'compensation_hypothetical' : cols[47:49],\n",
    "    'barriers' : cols[49:65],\n",
    "    'remote_personal_behavior' : cols[65:68],\n",
    "    'remote_management' : cols[68:79] + cols[80:81],\n",
    "    'productivity' : cols[79:80]\n",
    "    \n",
    "}"
   ]
  },
  {
   "cell_type": "code",
   "execution_count": null,
   "id": "dd7a2fdd-0bae-4dd2-b409-e76f45eeb18e",
   "metadata": {},
   "outputs": [],
   "source": []
  },
  {
   "cell_type": "code",
   "execution_count": 86,
   "id": "c961c201-4b35-4b52-a1fc-1828fbbf492f",
   "metadata": {},
   "outputs": [],
   "source": [
    "df = simplify_column_names( df, column_map.values() , column_map.keys() )"
   ]
  },
  {
   "cell_type": "code",
   "execution_count": 87,
   "id": "ae91fc89-57ea-4f9f-8996-831f578eef10",
   "metadata": {},
   "outputs": [],
   "source": [
    "df.rename( {'Response ID' : 'id'}, axis=1, inplace=True)"
   ]
  },
  {
   "cell_type": "code",
   "execution_count": null,
   "id": "2543b1c5-0355-45cb-9499-8ee3a46dd505",
   "metadata": {},
   "outputs": [],
   "source": []
  },
  {
   "cell_type": "code",
   "execution_count": 88,
   "id": "4d676d31-0ff1-453c-822f-c55b4fb69b8c",
   "metadata": {},
   "outputs": [
    {
     "data": {
      "text/plain": [
       "array([   1,    2,    3, ..., 1510, 1511, 1512], dtype=int64)"
      ]
     },
     "execution_count": 88,
     "metadata": {},
     "output_type": "execute_result"
    }
   ],
   "source": [
    "df['id'].unique()"
   ]
  },
  {
   "cell_type": "code",
   "execution_count": 89,
   "id": "26e688af-2bf5-4f2e-93ac-858fd28f611b",
   "metadata": {},
   "outputs": [
    {
     "data": {
      "application/vnd.jupyter.widget-view+json": {
       "model_id": "96bf95d5d751419bb9adc562a2fe6717",
       "version_major": 2,
       "version_minor": 0
      },
      "text/plain": [
       "interactive(children=(Dropdown(description='column', options=('id', 'demographics_1', 'demographics_2', 'demog…"
      ]
     },
     "metadata": {},
     "output_type": "display_data"
    }
   ],
   "source": [
    "@interact\n",
    "\n",
    "def df_answer_explorer(column = df.columns):\n",
    "    '''\n",
    "    Allows quick views of all unique answers for a given response question\n",
    "    \n",
    "    '''\n",
    "    if column != 'id': \n",
    "        # answers = list(df[column].unique())\n",
    "        column_name_parts = column.rsplit('_' ,1 )\n",
    "        response_question = column_map[column_name_parts[0]][int(column_name_parts[1]) - 1]\n",
    "        vk_column_counts = { df[df[column] == i].shape[0] : i for i in df[column].unique() }\n",
    "        sorted_kv_column_counts = { vk_column_counts[i] : i for i in sorted(vk_column_counts, reverse=True)}\n",
    "        \n",
    "        print(\"Survey question:\")\n",
    "        print(response_question)\n",
    "        print(\"\")\n",
    "        print(f\"Number of null responses: {df[column].isnull().sum()}\")\n",
    "        print(\"\")\n",
    "        result_df = pd.DataFrame(sorted_kv_column_counts.values(), index=sorted_kv_column_counts.keys())\n",
    "        result_df.rename({0 : 'Count'}, axis=1, inplace=True)\n",
    "        return result_df\n",
    "    else:\n",
    "        print(f\"'id' is a numerical range from 1 to {df.shape[0]}\")"
   ]
  },
  {
   "cell_type": "markdown",
   "id": "9153359a-3840-4288-94f7-ef611a1c8456",
   "metadata": {},
   "source": [
    "## Reforming survey responses to numeric values where possible\n",
    "\n",
    "This will allow us to more easily access statistical measures and implement some machine learning analysis. The information encoded in the responses will remain the same, just represented differently.\n",
    "\n",
    "Features (survey questions) addressed are those such as:\n",
    "- Those allowing the responder to select a percentage (the original responses contain flavor text that can be eliminated)\n",
    "- Those on a \"Agree\" scale that can be replaced with ordinal representations\n",
    "- Yes/No that can be binarized"
   ]
  },
  {
   "cell_type": "code",
   "execution_count": null,
   "id": "c6ec1744-39db-4e1e-9b84-d0d361ad8bf6",
   "metadata": {},
   "outputs": [],
   "source": []
  },
  {
   "cell_type": "code",
   "execution_count": 90,
   "id": "ef8bcd39-2dd9-46f8-9db5-752a847289b0",
   "metadata": {},
   "outputs": [],
   "source": [
    "# Start by making a copy to manipulate, so we can compare original values to new ones\n",
    "tidy_df = df.copy()"
   ]
  },
  {
   "cell_type": "code",
   "execution_count": null,
   "id": "eaf6c229-8a86-4c28-a78d-e8892cf364c0",
   "metadata": {},
   "outputs": [],
   "source": []
  },
  {
   "cell_type": "markdown",
   "id": "2f4d4321-b3a8-41ee-8cff-19d5cdd83af4",
   "metadata": {},
   "source": [
    "### Binarize responses across all columns where possible\n",
    "'Yes' = 1; 'No' = 0"
   ]
  },
  {
   "cell_type": "code",
   "execution_count": 91,
   "id": "468782ad-dcda-4591-a3fb-90ec81e390e8",
   "metadata": {},
   "outputs": [],
   "source": [
    "for col in tidy_df.columns:\n",
    "    if tidy_df[col].dtype == 'O':\n",
    "        responses = tidy_df[col].str.lower().unique()\n",
    "        if len(responses) == 2 and 'yes' in responses and 'no' in responses:\n",
    "            tidy_df[col] = tidy_df[col].str.lower()\n",
    "            tidy_df[col] = np.where(tidy_df[col] == 'yes', 1, 0)"
   ]
  },
  {
   "cell_type": "code",
   "execution_count": null,
   "id": "924fa344-db66-45f1-a2cd-9e7d1b9b3ce1",
   "metadata": {},
   "outputs": [],
   "source": []
  },
  {
   "cell_type": "markdown",
   "id": "f26a326e-3403-4f57-a3dc-0b2adfc4043f",
   "metadata": {},
   "source": [
    "### Recreate \"year born\" as \"age\" based on year this survey took place (2021)"
   ]
  },
  {
   "cell_type": "code",
   "execution_count": 92,
   "id": "80bee249-fb74-4618-ab50-3761d1ff698d",
   "metadata": {},
   "outputs": [],
   "source": [
    "tidy_df['demographics_1'] = 2021 - df['demographics_1']"
   ]
  },
  {
   "cell_type": "markdown",
   "id": "f3e0128b-07c1-48e7-8ec9-ecef120334bb",
   "metadata": {},
   "source": [
    "### Recreate \"Metro or Regional\" as \"Metro\" and make binary"
   ]
  },
  {
   "cell_type": "code",
   "execution_count": 93,
   "id": "2562d66f-f773-45bf-ab44-63f39628b753",
   "metadata": {},
   "outputs": [],
   "source": [
    "tidy_df['demographics_5'] = np.where(tidy_df['demographics_5'] == 'Metro', 1, 0)"
   ]
  },
  {
   "cell_type": "markdown",
   "id": "3a20053f-49d9-4b2e-bf1c-4abbb110f3a1",
   "metadata": {},
   "source": [
    "### \"Remote work time\" percentage questions as numeric\n",
    "\n",
    "**Note**: In these questions, \"Less than 10%\"\" is distinct from \"10%\" and \"Rarely or never\", but still represents that the responder went onsite at least for a few hours in the week. The result of the function would combine it with those distinctly answering \"10%\", so I have deliberately created a new distinct value splitting the difference - 5%"
   ]
  },
  {
   "cell_type": "code",
   "execution_count": 94,
   "id": "a289d1d2-d7f6-4c9c-ab64-beae9d1a33ff",
   "metadata": {},
   "outputs": [],
   "source": [
    "for i in range(1,6):\n",
    "    tidy_df[f\"remote_work_time_{i}\"] = np.where(tidy_df[f\"remote_work_time_{i}\"] == 'Less than 10% of my time', '5', tidy_df[f\"remote_work_time_{i}\"])\n",
    "    tidy_df[f\"remote_work_time_{i}\"] = tidy_df[f\"remote_work_time_{i}\"].apply(strip_chars)"
   ]
  },
  {
   "cell_type": "markdown",
   "id": "1a580b0a-56ad-47f8-816e-6fcb1fd76360",
   "metadata": {},
   "source": [
    "### Remote policy"
   ]
  },
  {
   "cell_type": "code",
   "execution_count": 95,
   "id": "9a3e37d0-5b2e-48f8-a4f7-c75fc74c5b28",
   "metadata": {},
   "outputs": [
    {
     "data": {
      "text/plain": [
       "dtype('O')"
      ]
     },
     "execution_count": 95,
     "metadata": {},
     "output_type": "execute_result"
    }
   ],
   "source": [
    "tidy_df[f\"remote_policy_3\"].dtype"
   ]
  },
  {
   "cell_type": "code",
   "execution_count": 96,
   "id": "9b117b6c-18e6-49bb-9a3f-8cc968e055db",
   "metadata": {},
   "outputs": [
    {
     "data": {
      "text/plain": [
       "750"
      ]
     },
     "execution_count": 96,
     "metadata": {},
     "output_type": "execute_result"
    }
   ],
   "source": [
    "tidy_df[f\"remote_policy_3\"].isnull().sum()"
   ]
  },
  {
   "cell_type": "code",
   "execution_count": 97,
   "id": "9e082f8c-072f-4833-a6ee-1c3cac27fddf",
   "metadata": {},
   "outputs": [],
   "source": [
    "tidy_df[f\"remote_policy_3\"] = tidy_df[f\"remote_policy_3\"].fillna('NA')\n",
    "tidy_df[f\"remote_policy_3\"] = np.where(tidy_df[f\"remote_policy_3\"] == 'Less than 10% of my time', '5', tidy_df[f\"remote_policy_3\"])\n",
    "tidy_df[f\"remote_policy_3\"] = tidy_df[f\"remote_policy_3\"].apply(strip_chars)"
   ]
  },
  {
   "cell_type": "code",
   "execution_count": 98,
   "id": "051f84a8-2b0d-4e53-93fb-37f529ce787b",
   "metadata": {},
   "outputs": [
    {
     "data": {
      "text/plain": [
       "0"
      ]
     },
     "execution_count": 98,
     "metadata": {},
     "output_type": "execute_result"
    }
   ],
   "source": [
    "strong_disagree_strong_agree_map.get('Neither agree nor disagree')\n"
   ]
  },
  {
   "cell_type": "code",
   "execution_count": 99,
   "id": "de06e719-9e77-4291-8665-041eec044193",
   "metadata": {},
   "outputs": [],
   "source": [
    "for i in range(4,8):\n",
    "    tidy_df[f'remote_policy_{i}'] = tidy_df[f'remote_policy_{i}'].apply(encode_ordinal)"
   ]
  },
  {
   "cell_type": "code",
   "execution_count": 100,
   "id": "726abdf8-472f-46a3-ae41-151ac0ef626a",
   "metadata": {},
   "outputs": [],
   "source": [
    "strong_neg_strong_pos_map = {\n",
    "    'Strongly Negative' : -2,\n",
    "    'Somewhat Negative' : -1,\n",
    "    'Neither positive nor negative' : 0,\n",
    "    'Somewhat Positive' : 1,\n",
    "    'Strongly Positive' : 2   \n",
    "}\n",
    "\n",
    "tidy_df['remote_policy_8'] = tidy_df['remote_policy_8'].apply(lambda s: encode_ordinal(string = s, ordinal_map= strong_neg_strong_pos_map))"
   ]
  },
  {
   "cell_type": "markdown",
   "id": "b0760063-ab38-486c-8dc7-425c8629d949",
   "metadata": {},
   "source": [
    "### Split work day"
   ]
  },
  {
   "cell_type": "code",
   "execution_count": 101,
   "id": "56ef5747-e5aa-4fd5-8951-e8772ec52ad7",
   "metadata": {},
   "outputs": [],
   "source": [
    "for i in range(2,4):\n",
    "    tidy_df[f\"split_work_day_{i}\"] = tidy_df[f\"split_work_day_{i}\"].fillna('NA')\n",
    "    tidy_df[f\"split_work_day_{i}\"] = np.where(tidy_df[f\"split_work_day_{i}\"] == 'Less than 10% of my time', '5', tidy_df[f\"split_work_day_{i}\"])\n",
    "    tidy_df[f\"split_work_day_{i}\"] = tidy_df[f\"split_work_day_{i}\"].apply(strip_chars)"
   ]
  },
  {
   "cell_type": "markdown",
   "id": "d7d2a6be-1bd3-49f7-b9b3-ec1a32239e48",
   "metadata": {},
   "source": [
    "### Remote Culture"
   ]
  },
  {
   "cell_type": "code",
   "execution_count": 102,
   "id": "e96b76eb-6941-44cc-ace0-95463192d656",
   "metadata": {},
   "outputs": [],
   "source": [
    "for i in range(1,8):\n",
    "    tidy_df[f'remote_culture_{i}'] = tidy_df[f'remote_culture_{i}'].apply(encode_ordinal)"
   ]
  },
  {
   "cell_type": "code",
   "execution_count": 103,
   "id": "e09f10b5-3892-4eee-b19f-488cc9835510",
   "metadata": {},
   "outputs": [],
   "source": [
    "tidy_df['remote_culture_8'] = tidy_df['remote_culture_8'].apply(lambda s: encode_ordinal(string = s, ordinal_map= strong_neg_strong_pos_map))"
   ]
  },
  {
   "cell_type": "code",
   "execution_count": 104,
   "id": "64c23a16-9f80-4131-ad5a-cdc0a14bb5fc",
   "metadata": {},
   "outputs": [],
   "source": [
    "very_unlikely_very_likely_map = {\n",
    "    'Very unlikely' : -2,\n",
    "    'Somewhat unlikely' : -1,\n",
    "    'Neither unlikely or likely' : 0,\n",
    "    'Somewhat likely' : 1,\n",
    "    'Very likely' : 2   \n",
    "}\n",
    "\n",
    "for i in range(10,13):\n",
    "    tidy_df[f'remote_culture_{i}'] = tidy_df[f'remote_culture_{i}'].apply(lambda s : encode_ordinal(string = s, ordinal_map= very_unlikely_very_likely_map))"
   ]
  },
  {
   "cell_type": "markdown",
   "id": "bde8d1c8-3f08-41e5-809e-71f816cd5d31",
   "metadata": {},
   "source": [
    "### Use of time - Onsite"
   ]
  },
  {
   "cell_type": "markdown",
   "id": "d248eaaf-5043-4648-993a-9fa031dc8171",
   "metadata": {},
   "source": [
    "Address some questionable nulls by filling with median or mean depending on skewness"
   ]
  },
  {
   "cell_type": "code",
   "execution_count": 105,
   "id": "c2259991-fc39-4e82-bde0-ea3255fb774b",
   "metadata": {},
   "outputs": [
    {
     "data": {
      "image/png": "[encoded data removed]",
      "text/plain": [
       "<Figure size 1000x800 with 6 Axes>"
      ]
     },
     "metadata": {},
     "output_type": "display_data"
    }
   ],
   "source": [
    "fig, axs = plt.subplots(3 , 2, figsize=(10,8))\n",
    "\n",
    "i = 1\n",
    "for y in range(3):\n",
    "    for x in range(2):\n",
    "        if i < 6:\n",
    "            axs[y,x].hist(tidy_df[f\"use_of_time_onsite_{i}\"], edgecolor='white');\n",
    "            axs[y,x].set_title(f\"use_of_time_onsite_{i}\")\n",
    "            i+=1"
   ]
  },
  {
   "cell_type": "code",
   "execution_count": 106,
   "id": "4399fb52-8e87-40d9-8862-e6323a0b5405",
   "metadata": {},
   "outputs": [],
   "source": [
    "tidy_df['use_of_time_onsite_1'] = tidy_df['use_of_time_onsite_1'].fillna(np.median(tidy_df[~tidy_df['use_of_time_onsite_1'].isnull()]['use_of_time_onsite_1']))\n",
    "\n",
    "tidy_df['use_of_time_onsite_2'] = tidy_df['use_of_time_onsite_2'].fillna(round(tidy_df['use_of_time_onsite_2'].mean(), 1))\n",
    "\n",
    "tidy_df['use_of_time_onsite_3'] = tidy_df['use_of_time_onsite_3'].fillna(np.median(tidy_df[~tidy_df['use_of_time_onsite_3'].isnull()]['use_of_time_onsite_3']))\n",
    "\n",
    "tidy_df['use_of_time_onsite_4'] = tidy_df['use_of_time_onsite_4'].fillna(round(tidy_df['use_of_time_onsite_4'].mean(), 1))\n",
    "\n",
    "tidy_df['use_of_time_onsite_5'] = tidy_df['use_of_time_onsite_5'].fillna(round(tidy_df['use_of_time_onsite_5'].mean(), 1))"
   ]
  },
  {
   "cell_type": "markdown",
   "id": "3ee5c2a0-a4da-411b-955b-5a751b143433",
   "metadata": {},
   "source": [
    "### Use of time - Remote"
   ]
  },
  {
   "cell_type": "code",
   "execution_count": 107,
   "id": "f3cf0d44-58ac-4252-a85d-141ba5b07bc2",
   "metadata": {},
   "outputs": [
    {
     "data": {
      "image/png": "[encoded data removed]",
      "text/plain": [
       "<Figure size 1000x800 with 6 Axes>"
      ]
     },
     "metadata": {},
     "output_type": "display_data"
    }
   ],
   "source": [
    "fig, axs = plt.subplots(3 , 2, figsize=(10,8))\n",
    "\n",
    "i = 1\n",
    "for y in range(3):\n",
    "    for x in range(2):\n",
    "        if i < 6:\n",
    "            axs[y,x].hist(tidy_df[f\"use_of_time_remote_{i}\"], edgecolor='white');\n",
    "            axs[y,x].set_title(f\"use_of_time_remote_{i}\")\n",
    "            i+=1"
   ]
  },
  {
   "cell_type": "code",
   "execution_count": 108,
   "id": "03a4fab3-c31a-4e69-afad-0ef9256a831d",
   "metadata": {},
   "outputs": [],
   "source": [
    "tidy_df['use_of_time_remote_1'] = tidy_df['use_of_time_remote_1'].fillna(np.median(tidy_df[~tidy_df['use_of_time_remote_1'].isnull()]['use_of_time_remote_1']))\n",
    "\n",
    "tidy_df['use_of_time_remote_2'] = tidy_df['use_of_time_remote_2'].fillna(round(tidy_df['use_of_time_remote_2'].mean(), 1))\n",
    "\n",
    "tidy_df['use_of_time_remote_3'] = tidy_df['use_of_time_remote_3'].fillna(np.median(tidy_df[~tidy_df['use_of_time_remote_3'].isnull()]['use_of_time_remote_3']))\n",
    "\n",
    "tidy_df['use_of_time_remote_4'] = tidy_df['use_of_time_remote_4'].fillna(round(tidy_df['use_of_time_remote_4'].mean(), 1))\n",
    "\n",
    "tidy_df['use_of_time_remote_5'] = tidy_df['use_of_time_remote_5'].fillna(round(tidy_df['use_of_time_remote_5'].mean(), 1))"
   ]
  },
  {
   "cell_type": "markdown",
   "id": "a7fa3419-c7f5-465c-8fc0-2f0ced6c0e5f",
   "metadata": {},
   "source": [
    "### Compensation Hypothetical"
   ]
  },
  {
   "cell_type": "code",
   "execution_count": 109,
   "id": "57fc19e1-cdee-4b86-9ead-c0f790374dd0",
   "metadata": {},
   "outputs": [
    {
     "data": {
      "text/plain": [
       "<Axes: >"
      ]
     },
     "execution_count": 109,
     "metadata": {},
     "output_type": "execute_result"
    },
    {
     "data": {
      "image/png": "[encoded data removed]",
      "text/plain": [
       "<Figure size 640x480 with 1 Axes>"
      ]
     },
     "metadata": {},
     "output_type": "display_data"
    }
   ],
   "source": [
    "tidy_df['compensation_hypothetical_2'].hist()"
   ]
  },
  {
   "cell_type": "code",
   "execution_count": 110,
   "id": "abb989c6-42e9-4030-af20-810959f980e5",
   "metadata": {},
   "outputs": [],
   "source": [
    "tidy_df['compensation_hypothetical_2'] = tidy_df['compensation_hypothetical_2'].fillna('NA')"
   ]
  },
  {
   "cell_type": "markdown",
   "id": "dc83a322-7df3-462c-b926-7fa19d6c107a",
   "metadata": {},
   "source": [
    "### Remote Barriers\n",
    "\n",
    "In these questions, ordinal data is a bit of a challenge because of two similar neutral answers \"Stayed about the same\" and \"Not a barrier for me\".\n",
    "\n",
    "In the context of the questions being related to the change in remote working conditions, these could be interpreted as being alike since they suggest no noticeable change to the responders current working environment. For this reason, I have combined them to maintain an ordinal data response."
   ]
  },
  {
   "cell_type": "code",
   "execution_count": 111,
   "id": "906bb0fb-f5cd-4dcf-827e-247eca071b75",
   "metadata": {},
   "outputs": [],
   "source": [
    "barriers_map = {\n",
    "    'Significantly worsened' : -2,\n",
    "    'Somewhat worsened' : -1,\n",
    "    'Not a barrier for me' : 0,\n",
    "    'Stayed about the same' : 0,\n",
    "    'Somewhat improved' : 1,\n",
    "    'Significantly improved' : 2\n",
    "}\n",
    "\n",
    "for i in range(1,17):\n",
    "    tidy_df[f'barriers_{i}'] = tidy_df[f'barriers_{i}'].apply(lambda s : encode_ordinal(string = s, ordinal_map= barriers_map))"
   ]
  },
  {
   "cell_type": "markdown",
   "id": "71d59412-247d-4082-8a9b-ed6d5efa4671",
   "metadata": {},
   "source": [
    "### Remote Personal Behavior"
   ]
  },
  {
   "cell_type": "code",
   "execution_count": 112,
   "id": "c71743bc-e91f-43cc-9884-a6a42955a413",
   "metadata": {},
   "outputs": [],
   "source": [
    "for i in range(1,4):\n",
    "    tidy_df[f'remote_personal_behavior_{i}'] = tidy_df[f'remote_personal_behavior_{i}'].apply(lambda s : encode_ordinal(string = s, ordinal_map= strong_disagree_strong_agree_map))"
   ]
  },
  {
   "cell_type": "markdown",
   "id": "dee9dcae-9625-4511-9ac4-45cb554fe3b3",
   "metadata": {},
   "source": [
    "### Remote Management"
   ]
  },
  {
   "cell_type": "code",
   "execution_count": 113,
   "id": "30e18820-9e3c-4e21-ba74-e5ea02bbd0d5",
   "metadata": {},
   "outputs": [],
   "source": [
    "tidy_df['remote_management_2'] = tidy_df['remote_management_2'].fillna('NA') "
   ]
  },
  {
   "cell_type": "code",
   "execution_count": 114,
   "id": "8fb6cbfe-578d-41c2-a052-dcabe400fffe",
   "metadata": {},
   "outputs": [
    {
     "data": {
      "text/plain": [
       "917"
      ]
     },
     "execution_count": 114,
     "metadata": {},
     "output_type": "execute_result"
    }
   ],
   "source": [
    "tidy_df['remote_management_3'].isnull().sum()"
   ]
  },
  {
   "cell_type": "code",
   "execution_count": 115,
   "id": "84ecb28b-f119-45c7-a082-92cc78576525",
   "metadata": {},
   "outputs": [],
   "source": [
    "for i in range(3,12):\n",
    "    tidy_df[f\"remote_management_{i}\"] = tidy_df[f\"remote_management_{i}\"].fillna('NA') \n",
    "    tidy_df[f\"remote_management_{i}\"] = tidy_df[f\"remote_management_{i}\"].apply(encode_ordinal)"
   ]
  },
  {
   "cell_type": "code",
   "execution_count": 116,
   "id": "9f9f5d70-3d08-4391-b8da-cf50b70f4a65",
   "metadata": {},
   "outputs": [],
   "source": [
    "tidy_df['remote_management_12'] = tidy_df['remote_management_12'].fillna('NA').apply(convert_to_percentage_with_negatives)"
   ]
  },
  {
   "cell_type": "markdown",
   "id": "1d9a4aae-e99c-4790-9f70-0f15aa146c73",
   "metadata": {},
   "source": [
    "### Productivity"
   ]
  },
  {
   "cell_type": "code",
   "execution_count": 117,
   "id": "8c47e835-35cf-4085-ab83-f5b0de013c44",
   "metadata": {},
   "outputs": [],
   "source": [
    "tidy_df['productivity_1'] = tidy_df['productivity_1'].apply(convert_to_percentage_with_negatives)"
   ]
  },
  {
   "cell_type": "code",
   "execution_count": null,
   "id": "aac23cf5-38f4-4fe4-9e1c-d6322fb6486b",
   "metadata": {},
   "outputs": [],
   "source": []
  },
  {
   "cell_type": "code",
   "execution_count": null,
   "id": "93e45174-67bb-4e1e-97a6-c9fec67b5c78",
   "metadata": {},
   "outputs": [],
   "source": []
  },
  {
   "cell_type": "code",
   "execution_count": 118,
   "id": "7af95769-f71d-467f-a85b-aa8eda668d7d",
   "metadata": {},
   "outputs": [
    {
     "data": {
      "application/vnd.jupyter.widget-view+json": {
       "model_id": "e3acdcf1b4c5417392ab5fb70a91a9b5",
       "version_major": 2,
       "version_minor": 0
      },
      "text/plain": [
       "interactive(children=(Dropdown(description='column', options=('id', 'demographics_1', 'demographics_2', 'demog…"
      ]
     },
     "metadata": {},
     "output_type": "display_data"
    }
   ],
   "source": [
    "@interact\n",
    "\n",
    "def tidy_df_answer_explorer(column = tidy_df.columns):\n",
    "    '''\n",
    "    Allows quick views of all unique answers for a given response question\n",
    "    \n",
    "    '''\n",
    "    if column != 'id': \n",
    "        # answers = list(df[column].unique())\n",
    "        column_name_parts = column.rsplit('_' ,1 )\n",
    "        response_question = column_map[column_name_parts[0]][int(column_name_parts[1]) - 1]\n",
    "        vk_column_counts = { tidy_df[tidy_df[column] == i].shape[0] : i for i in tidy_df[column].unique() }\n",
    "        sorted_kv_column_counts = { vk_column_counts[i] : i for i in sorted(vk_column_counts, reverse=True)}\n",
    "        \n",
    "        print(\"Survey question:\")\n",
    "        print(response_question)\n",
    "        print(\"\")\n",
    "        print(f\"Number of null responses: {tidy_df[column].isnull().sum()}\")\n",
    "        print(\"\")\n",
    "        result_df = pd.DataFrame(sorted_kv_column_counts.values(), index=sorted_kv_column_counts.keys())\n",
    "        result_df.rename({0 : 'Count'}, axis=1, inplace=True)\n",
    "        return result_df\n",
    "    else:\n",
    "        print(f\"'id' is a numerical range from 1 to {df.shape[0]}\")"
   ]
  },
  {
   "cell_type": "code",
   "execution_count": 119,
   "id": "d00a244a-ba88-4794-88cf-325edf25c4e2",
   "metadata": {},
   "outputs": [
    {
     "data": {
      "text/plain": [
       "True"
      ]
     },
     "execution_count": 119,
     "metadata": {},
     "output_type": "execute_result"
    }
   ],
   "source": [
    "all(tidy_df.isnull().sum() == False)"
   ]
  },
  {
   "cell_type": "code",
   "execution_count": 120,
   "id": "3437278e-6e83-45ca-8177-653d403b3f2b",
   "metadata": {},
   "outputs": [],
   "source": [
    "#tidy_df.to_csv('../data/2021_rws_tidy_numeric.csv', index=False)"
   ]
  },
  {
   "cell_type": "code",
   "execution_count": 121,
   "id": "edd06fad-5487-4001-8f4b-1269949a4926",
   "metadata": {},
   "outputs": [],
   "source": [
    "company_controlled_barriers_v_productivity = tidy_df.iloc[:, [0, 50,51,52,53,54,57,61,79]]"
   ]
  },
  {
   "cell_type": "code",
   "execution_count": 122,
   "id": "1881f1f8-b289-404b-b231-b4d661a571ff",
   "metadata": {},
   "outputs": [],
   "source": [
    "#company_controlled_barriers_v_productivity.to_csv('../data/company_controlled_barriers_v_productivity.csv', index = False)"
   ]
  },
  {
   "cell_type": "code",
   "execution_count": 123,
   "id": "949f59e2-a8fe-4fb6-a745-ce14a48ffde5",
   "metadata": {},
   "outputs": [],
   "source": [
    "barrier_cols = [col for col in tidy_df.columns if 'barriers' in col ]"
   ]
  },
  {
   "cell_type": "code",
   "execution_count": 124,
   "id": "3a7ee455-6362-44bb-923d-7d0facaeec26",
   "metadata": {},
   "outputs": [],
   "source": [
    "barrier_cols.append('id')\n",
    "barrier_cols.append('productivity_1')"
   ]
  },
  {
   "cell_type": "code",
   "execution_count": 125,
   "id": "fb59ec68-676a-4934-9bda-38927c32fee6",
   "metadata": {},
   "outputs": [],
   "source": [
    "barriers_df = tidy_df[barrier_cols]"
   ]
  },
  {
   "cell_type": "code",
   "execution_count": 126,
   "id": "0cd5945e-81b6-41ab-8568-3bdd5d4e2c16",
   "metadata": {},
   "outputs": [],
   "source": [
    "barriers_df.to_csv('../data/all_barriers.csv', index = False)"
   ]
  },
  {
   "cell_type": "code",
   "execution_count": null,
   "id": "b2edab61-1b7a-48fe-9e00-660b3b1b66be",
   "metadata": {},
   "outputs": [],
   "source": []
  },
  {
   "cell_type": "code",
   "execution_count": 127,
   "id": "062f85e0-ba57-4fe7-a2c6-3d4063c0d294",
   "metadata": {},
   "outputs": [
    {
     "data": {
      "text/plain": [
       "barriers_2\n",
       " 0    151\n",
       " 1     74\n",
       " 2     35\n",
       "-1     14\n",
       "-2      4\n",
       "Name: count, dtype: int64"
      ]
     },
     "execution_count": 127,
     "metadata": {},
     "output_type": "execute_result"
    }
   ],
   "source": [
    "tidy_df[tidy_df['productivity_1'] == 50]['barriers_2'].value_counts()"
   ]
  },
  {
   "cell_type": "code",
   "execution_count": 128,
   "id": "0bb34893-82bd-488f-859c-c98e024c06cb",
   "metadata": {},
   "outputs": [
    {
     "data": {
      "text/plain": [
       "barriers_2\n",
       " 0    0.543165\n",
       " 1    0.266187\n",
       " 2    0.125899\n",
       "-1    0.050360\n",
       "-2    0.014388\n",
       "Name: count, dtype: float64"
      ]
     },
     "execution_count": 128,
     "metadata": {},
     "output_type": "execute_result"
    }
   ],
   "source": [
    "tidy_df[tidy_df['productivity_1'] == 50]['barriers_2'].value_counts() / tidy_df[tidy_df['productivity_1'] == 50]['barriers_2'].count()"
   ]
  }
 ],
 "metadata": {
  "kernelspec": {
   "display_name": "Python 3 (ipykernel)",
   "language": "python",
   "name": "python3"
  },
  "language_info": {
   "codemirror_mode": {
    "name": "ipython",
    "version": 3
   },
   "file_extension": ".py",
   "mimetype": "text/x-python",
   "name": "python",
   "nbconvert_exporter": "python",
   "pygments_lexer": "ipython3",
   "version": "3.11.5"
  }
 },
 "nbformat": 4,
 "nbformat_minor": 5
}
