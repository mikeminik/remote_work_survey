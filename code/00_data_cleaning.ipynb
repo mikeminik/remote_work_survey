{
 "cells": [
  {
   "cell_type": "code",
   "execution_count": 316,
   "id": "0f7e317f-683e-4099-aa36-a48ad007af45",
   "metadata": {},
   "outputs": [],
   "source": [
    "import pandas as pd\n",
    "import numpy as np\n",
    "from ipywidgets import interact"
   ]
  },
  {
   "cell_type": "code",
   "execution_count": 317,
   "id": "6a74854c-9225-4a40-9cf1-58cf49d4e595",
   "metadata": {},
   "outputs": [],
   "source": [
    "def simplify_column_names( df: pd.DataFrame, col_names: list, prefixes: list) -> pd.DataFrame:\n",
    "    '''\n",
    "    For a given dataframe, renames lists of column names with a shared prefix and applies a sequential counter after each prefix.\n",
    "\n",
    "    Example: In dataframe df, columns groups [['hello', 'world'], ['foo','bar']], prefixes ['a','b'] would yield new column names\n",
    "    a_1, a_2, b_1, b_2\n",
    "    '''\n",
    "    for c, p in zip(col_names, prefixes):\n",
    "        rename_map = { i : f\"{p}_{str(c.index(i) + 1)}\" for i in c}\n",
    "        df.rename(rename_map, axis=1, inplace=True )\n",
    "    \n",
    "    return df"
   ]
  },
  {
   "cell_type": "code",
   "execution_count": 318,
   "id": "c580102a-03e4-4591-afa6-a0f3abe77435",
   "metadata": {},
   "outputs": [],
   "source": [
    "def strip_chars(string : str) -> int:\n",
    "    '''\n",
    "    Strips all non-numeric characters and returns the rest as a single int\n",
    "    '''\n",
    "    string = string.replace('%','')\n",
    "    res = ''.join([i for i in string.split() if i.isdigit()])\n",
    "    if res:\n",
    "        return int(''.join([i for i in string.split() if i.isdigit()]))\n",
    "    else:\n",
    "        return 0"
   ]
  },
  {
   "cell_type": "code",
   "execution_count": null,
   "id": "8040df2d-4887-47c5-ba1d-ac75f001e5b9",
   "metadata": {},
   "outputs": [],
   "source": []
  },
  {
   "cell_type": "code",
   "execution_count": null,
   "id": "25fd5609-1c4c-4b79-a666-c242b35ea38f",
   "metadata": {},
   "outputs": [],
   "source": []
  },
  {
   "cell_type": "code",
   "execution_count": 319,
   "id": "4650744e-9c0b-4c90-8a7b-41a911bd5d79",
   "metadata": {},
   "outputs": [],
   "source": [
    "pd.set_option('display.max_colwidth', None)"
   ]
  },
  {
   "cell_type": "code",
   "execution_count": 320,
   "id": "52a7f2cb-dec4-42ff-a5fb-390535a7705b",
   "metadata": {},
   "outputs": [],
   "source": [
    "data_dir = '../data/'"
   ]
  },
  {
   "cell_type": "code",
   "execution_count": 321,
   "id": "224fb70c-2e9a-491e-8b28-d6d41786ba00",
   "metadata": {},
   "outputs": [],
   "source": [
    "raw_data = pd.read_csv(data_dir + '2021_rws.csv', encoding='cp1252')"
   ]
  },
  {
   "cell_type": "code",
   "execution_count": 322,
   "id": "3c378186-01ee-45ef-98f4-bda3185983e9",
   "metadata": {},
   "outputs": [
    {
     "data": {
      "text/plain": [
       "(1512, 109)"
      ]
     },
     "execution_count": 322,
     "metadata": {},
     "output_type": "execute_result"
    }
   ],
   "source": [
    "raw_data.shape"
   ]
  },
  {
   "cell_type": "markdown",
   "id": "5cc526eb-4d09-42b4-a0b9-f9f930bd37f8",
   "metadata": {},
   "source": [
    "Drop columns we know we will not be examining\n",
    "\n",
    "- Columns pertaining to collaborating remotely with onsite employees (column indices 65-92)"
   ]
  },
  {
   "cell_type": "code",
   "execution_count": null,
   "id": "0a433800-f506-45d8-8f6c-e71176efe124",
   "metadata": {},
   "outputs": [],
   "source": []
  },
  {
   "cell_type": "code",
   "execution_count": 323,
   "id": "a61379ec-49eb-4f94-b69f-2d370ae4a26d",
   "metadata": {},
   "outputs": [],
   "source": [
    "remote_onsite_cols = raw_data.columns[65:93]"
   ]
  },
  {
   "cell_type": "code",
   "execution_count": 324,
   "id": "0bcd8810-e59e-4208-873c-988b5f3dbd64",
   "metadata": {},
   "outputs": [],
   "source": [
    "df = raw_data.drop( columns= remote_onsite_cols)"
   ]
  },
  {
   "cell_type": "code",
   "execution_count": 325,
   "id": "852e2423-f5d8-4cde-90ec-d0a75e5402bb",
   "metadata": {},
   "outputs": [
    {
     "data": {
      "text/plain": [
       "(1512, 81)"
      ]
     },
     "execution_count": 325,
     "metadata": {},
     "output_type": "execute_result"
    }
   ],
   "source": [
    "df.shape"
   ]
  },
  {
   "cell_type": "markdown",
   "id": "624a50ce-2e70-4ef3-a137-c18aabc6d9a9",
   "metadata": {},
   "source": [
    "Trim leading/trailing whitespace in columns"
   ]
  },
  {
   "cell_type": "code",
   "execution_count": 326,
   "id": "2bc903e2-f1aa-407d-a976-aea18d443c33",
   "metadata": {},
   "outputs": [],
   "source": [
    "column_name_trimmed = { k : k.strip() for k in df.columns}\n",
    "df.rename(column_name_trimmed, axis=1, inplace=True)"
   ]
  },
  {
   "cell_type": "code",
   "execution_count": 327,
   "id": "3daff5fb-4323-472d-a3f7-a09700bad278",
   "metadata": {},
   "outputs": [],
   "source": [
    "cols = list(df.columns)"
   ]
  },
  {
   "cell_type": "markdown",
   "id": "437417c0-5214-4cb6-af46-ad37de2d8c0a",
   "metadata": {},
   "source": [
    "Renaming columns from original survey questions to more workable column names"
   ]
  },
  {
   "cell_type": "code",
   "execution_count": 328,
   "id": "c0068de2-a0fc-4a17-a108-a9b96230bff8",
   "metadata": {},
   "outputs": [],
   "source": [
    "# Columns indices from column mapping file\n",
    "# Values maintained as lists to support simplify_column_names function\n",
    "column_map = {\n",
    "    'demographics' : cols[1:4] + cols[7:9],\n",
    "    'company' : cols[4:7],\n",
    "    'remote_work_time' : cols[9:14],\n",
    "    'remote_policy' : cols[14:15] + cols[18:25],\n",
    "    'split_work_day' : cols[15:18],\n",
    "    'remote_culture' : cols[25:37],\n",
    "    'use_of_time_onsite' : cols[37:42],\n",
    "    'use_of_time_remote' : cols[42:47],\n",
    "    'compensation_hypothetical' : cols[47:49],\n",
    "    'barriers' : cols[49:65],\n",
    "    'remote_personal_behavior' : cols[65:68],\n",
    "    'remote_management' : cols[68:79] + cols[80:81],\n",
    "    'productivity' : cols[79:80]\n",
    "    \n",
    "}"
   ]
  },
  {
   "cell_type": "code",
   "execution_count": null,
   "id": "dd7a2fdd-0bae-4dd2-b409-e76f45eeb18e",
   "metadata": {},
   "outputs": [],
   "source": []
  },
  {
   "cell_type": "code",
   "execution_count": 329,
   "id": "c961c201-4b35-4b52-a1fc-1828fbbf492f",
   "metadata": {},
   "outputs": [],
   "source": [
    "df = simplify_column_names( df, column_map.values() , column_map.keys() )"
   ]
  },
  {
   "cell_type": "code",
   "execution_count": 330,
   "id": "ae91fc89-57ea-4f9f-8996-831f578eef10",
   "metadata": {},
   "outputs": [],
   "source": [
    "df.rename( {'Response ID' : 'id'}, axis=1, inplace=True)"
   ]
  },
  {
   "cell_type": "code",
   "execution_count": 331,
   "id": "2543b1c5-0355-45cb-9499-8ee3a46dd505",
   "metadata": {},
   "outputs": [
    {
     "data": {
      "text/plain": [
       "Index(['id', 'demographics_1', 'demographics_2', 'demographics_3', 'company_1',\n",
       "       'company_2', 'company_3', 'demographics_4', 'demographics_5',\n",
       "       'remote_work_time_1', 'remote_work_time_2', 'remote_work_time_3',\n",
       "       'remote_work_time_4', 'remote_work_time_5', 'remote_policy_1',\n",
       "       'split_work_day_1', 'split_work_day_2', 'split_work_day_3',\n",
       "       'remote_policy_2', 'remote_policy_3', 'remote_policy_4',\n",
       "       'remote_policy_5', 'remote_policy_6', 'remote_policy_7',\n",
       "       'remote_policy_8', 'remote_culture_1', 'remote_culture_2',\n",
       "       'remote_culture_3', 'remote_culture_4', 'remote_culture_5',\n",
       "       'remote_culture_6', 'remote_culture_7', 'remote_culture_8',\n",
       "       'remote_culture_9', 'remote_culture_10', 'remote_culture_11',\n",
       "       'remote_culture_12', 'use_of_time_onsite_1', 'use_of_time_onsite_2',\n",
       "       'use_of_time_onsite_3', 'use_of_time_onsite_4', 'use_of_time_onsite_5',\n",
       "       'use_of_time_remote_1', 'use_of_time_remote_2', 'use_of_time_remote_3',\n",
       "       'use_of_time_remote_4', 'use_of_time_remote_5',\n",
       "       'compensation_hypothetical_1', 'compensation_hypothetical_2',\n",
       "       'barriers_1', 'barriers_2', 'barriers_3', 'barriers_4', 'barriers_5',\n",
       "       'barriers_6', 'barriers_7', 'barriers_8', 'barriers_9', 'barriers_10',\n",
       "       'barriers_11', 'barriers_12', 'barriers_13', 'barriers_14',\n",
       "       'barriers_15', 'barriers_16', 'remote_personal_behavior_1',\n",
       "       'remote_personal_behavior_2', 'remote_personal_behavior_3',\n",
       "       'remote_management_1', 'remote_management_2', 'remote_management_3',\n",
       "       'remote_management_4', 'remote_management_5', 'remote_management_6',\n",
       "       'remote_management_7', 'remote_management_8', 'remote_management_9',\n",
       "       'remote_management_10', 'remote_management_11', 'productivity_1',\n",
       "       'remote_management_12'],\n",
       "      dtype='object')"
      ]
     },
     "execution_count": 331,
     "metadata": {},
     "output_type": "execute_result"
    }
   ],
   "source": [
    "df.columns"
   ]
  },
  {
   "cell_type": "code",
   "execution_count": 332,
   "id": "4d676d31-0ff1-453c-822f-c55b4fb69b8c",
   "metadata": {},
   "outputs": [
    {
     "data": {
      "text/plain": [
       "array([   1,    2,    3, ..., 1510, 1511, 1512], dtype=int64)"
      ]
     },
     "execution_count": 332,
     "metadata": {},
     "output_type": "execute_result"
    }
   ],
   "source": [
    "df['id'].unique()"
   ]
  },
  {
   "cell_type": "code",
   "execution_count": 333,
   "id": "26e688af-2bf5-4f2e-93ac-858fd28f611b",
   "metadata": {},
   "outputs": [
    {
     "data": {
      "application/vnd.jupyter.widget-view+json": {
       "model_id": "f1bba2ad8b2a48179508779cdb07e601",
       "version_major": 2,
       "version_minor": 0
      },
      "text/plain": [
       "interactive(children=(Dropdown(description='column', options=('id', 'demographics_1', 'demographics_2', 'demog…"
      ]
     },
     "metadata": {},
     "output_type": "display_data"
    }
   ],
   "source": [
    "@interact\n",
    "\n",
    "def df_answer_explorer(column = df.columns):\n",
    "    '''\n",
    "    Allows quick views of all unique answers for a given response question\n",
    "    \n",
    "    '''\n",
    "    if column != 'id': \n",
    "        # answers = list(df[column].unique())\n",
    "        column_name_parts = column.rsplit('_' ,1 )\n",
    "        response_question = column_map[column_name_parts[0]][int(column_name_parts[1]) - 1]\n",
    "        vk_column_counts = { df[df[column] == i].shape[0] : i for i in df[column].unique() }\n",
    "        sorted_kv_column_counts = { vk_column_counts[i] : i for i in sorted(vk_column_counts, reverse=True)}\n",
    "        \n",
    "        print(\"Survey question:\")\n",
    "        print(response_question)\n",
    "        print(\"\")\n",
    "        result_df = pd.DataFrame(sorted_kv_column_counts.values(), index=sorted_kv_column_counts.keys())\n",
    "        result_df.rename({0 : 'Count'}, axis=1, inplace=True)\n",
    "        return result_df\n",
    "    else:\n",
    "        print(f\"'id' is a numerical range from 1 to {df.shape[0]}\")"
   ]
  },
  {
   "cell_type": "markdown",
   "id": "9153359a-3840-4288-94f7-ef611a1c8456",
   "metadata": {},
   "source": [
    "## Reforming survey responses to numeric values where possible"
   ]
  },
  {
   "cell_type": "code",
   "execution_count": null,
   "id": "c6ec1744-39db-4e1e-9b84-d0d361ad8bf6",
   "metadata": {},
   "outputs": [],
   "source": []
  },
  {
   "cell_type": "code",
   "execution_count": 334,
   "id": "ef8bcd39-2dd9-46f8-9db5-752a847289b0",
   "metadata": {},
   "outputs": [],
   "source": [
    "tidy_df = df.copy()"
   ]
  },
  {
   "cell_type": "code",
   "execution_count": null,
   "id": "eaf6c229-8a86-4c28-a78d-e8892cf364c0",
   "metadata": {},
   "outputs": [],
   "source": []
  },
  {
   "cell_type": "markdown",
   "id": "2f4d4321-b3a8-41ee-8cff-19d5cdd83af4",
   "metadata": {},
   "source": [
    "### Binarize responses across all columns where possible\n",
    "'Yes' = 1; 'No' = 0"
   ]
  },
  {
   "cell_type": "code",
   "execution_count": 366,
   "id": "468782ad-dcda-4591-a3fb-90ec81e390e8",
   "metadata": {},
   "outputs": [],
   "source": [
    "for col in tidy_df.columns:\n",
    "    if tidy_df[col].dtype == 'O':\n",
    "        responses = tidy_df[col].str.lower().unique()\n",
    "        if len(responses) == 2 and 'yes' in responses and 'no' in responses:\n",
    "            tidy_df[col] = tidy_df[col].str.lower()\n",
    "            tidy_df[col] = np.where(tidy_df[col] == 'yes', 1, 0)"
   ]
  },
  {
   "cell_type": "code",
   "execution_count": null,
   "id": "924fa344-db66-45f1-a2cd-9e7d1b9b3ce1",
   "metadata": {},
   "outputs": [],
   "source": []
  },
  {
   "cell_type": "markdown",
   "id": "f26a326e-3403-4f57-a3dc-0b2adfc4043f",
   "metadata": {},
   "source": [
    "### Recreate \"year born\" as \"age\" based on year this survey took place (2021)"
   ]
  },
  {
   "cell_type": "code",
   "execution_count": 335,
   "id": "80bee249-fb74-4618-ab50-3761d1ff698d",
   "metadata": {},
   "outputs": [],
   "source": [
    "tidy_df['demographics_1'] = 2021 - df['demographics_1']"
   ]
  },
  {
   "cell_type": "markdown",
   "id": "f3e0128b-07c1-48e7-8ec9-ecef120334bb",
   "metadata": {},
   "source": [
    "### Recreate \"Metro or Regional\" as \"Metro\" and make binary"
   ]
  },
  {
   "cell_type": "code",
   "execution_count": 336,
   "id": "2562d66f-f773-45bf-ab44-63f39628b753",
   "metadata": {},
   "outputs": [],
   "source": [
    "tidy_df['demographics_5'] = np.where(tidy_df['demographics_5'] == 'Metro', 1, 0)"
   ]
  },
  {
   "cell_type": "markdown",
   "id": "3a20053f-49d9-4b2e-bf1c-4abbb110f3a1",
   "metadata": {},
   "source": [
    "### \"Remote work time\" percentage questions as numeric\n",
    "\n",
    "**Note**: In these questions, \"Less than 10%\"\" is distinct from \"10%\" and \"Rarely or never\", but still represents that the responder went onsite at least for a few hours in the week. The result of the function would combine it with those distinctly answering \"10%\", so I have deliberately created a new distinct value splitting the difference - 5%"
   ]
  },
  {
   "cell_type": "code",
   "execution_count": 337,
   "id": "a289d1d2-d7f6-4c9c-ab64-beae9d1a33ff",
   "metadata": {},
   "outputs": [],
   "source": [
    "for i in range(1,6):\n",
    "    tidy_df[f\"remote_work_time_{i}\"] = np.where(tidy_df[f\"remote_work_time_{i}\"] == 'Less than 10% of my time', '5', tidy_df[f\"remote_work_time_{i}\"])\n",
    "    tidy_df[f\"remote_work_time_{i}\"] = tidy_df[f\"remote_work_time_{i}\"].apply(strip_chars)"
   ]
  },
  {
   "cell_type": "markdown",
   "id": "1a580b0a-56ad-47f8-816e-6fcb1fd76360",
   "metadata": {},
   "source": [
    "### Remote policy"
   ]
  },
  {
   "cell_type": "code",
   "execution_count": null,
   "id": "9e082f8c-072f-4833-a6ee-1c3cac27fddf",
   "metadata": {},
   "outputs": [],
   "source": []
  },
  {
   "cell_type": "code",
   "execution_count": null,
   "id": "726abdf8-472f-46a3-ae41-151ac0ef626a",
   "metadata": {},
   "outputs": [],
   "source": []
  },
  {
   "cell_type": "code",
   "execution_count": null,
   "id": "29c30e36-3773-4572-b82b-08becaf1c691",
   "metadata": {},
   "outputs": [],
   "source": []
  },
  {
   "cell_type": "code",
   "execution_count": null,
   "id": "56ef5747-e5aa-4fd5-8951-e8772ec52ad7",
   "metadata": {},
   "outputs": [],
   "source": []
  },
  {
   "cell_type": "code",
   "execution_count": null,
   "id": "bf2b5142-186d-45cf-8100-0631de7e3d04",
   "metadata": {},
   "outputs": [],
   "source": []
  },
  {
   "cell_type": "code",
   "execution_count": 338,
   "id": "7af95769-f71d-467f-a85b-aa8eda668d7d",
   "metadata": {},
   "outputs": [
    {
     "data": {
      "application/vnd.jupyter.widget-view+json": {
       "model_id": "049915f7c8fb403484d3cac6f77272d1",
       "version_major": 2,
       "version_minor": 0
      },
      "text/plain": [
       "interactive(children=(Dropdown(description='column', options=('id', 'demographics_1', 'demographics_2', 'demog…"
      ]
     },
     "metadata": {},
     "output_type": "display_data"
    }
   ],
   "source": [
    "@interact\n",
    "\n",
    "def tidy_df_answer_explorer(column = tidy_df.columns):\n",
    "    '''\n",
    "    Allows quick views of all unique answers for a given response question\n",
    "    \n",
    "    '''\n",
    "    if column != 'id': \n",
    "        # answers = list(df[column].unique())\n",
    "        column_name_parts = column.rsplit('_' ,1 )\n",
    "        response_question = column_map[column_name_parts[0]][int(column_name_parts[1]) - 1]\n",
    "        vk_column_counts = { tidy_df[tidy_df[column] == i].shape[0] : i for i in tidy_df[column].unique() }\n",
    "        sorted_kv_column_counts = { vk_column_counts[i] : i for i in sorted(vk_column_counts, reverse=True)}\n",
    "        \n",
    "        print(\"Survey question:\")\n",
    "        print(response_question)\n",
    "        print(\"\")\n",
    "        result_df = pd.DataFrame(sorted_kv_column_counts.values(), index=sorted_kv_column_counts.keys())\n",
    "        result_df.rename({0 : 'Count'}, axis=1, inplace=True)\n",
    "        return result_df\n",
    "    else:\n",
    "        print(f\"'id' is a numerical range from 1 to {df.shape[0]}\")"
   ]
  }
 ],
 "metadata": {
  "kernelspec": {
   "display_name": "Python 3 (ipykernel)",
   "language": "python",
   "name": "python3"
  },
  "language_info": {
   "codemirror_mode": {
    "name": "ipython",
    "version": 3
   },
   "file_extension": ".py",
   "mimetype": "text/x-python",
   "name": "python",
   "nbconvert_exporter": "python",
   "pygments_lexer": "ipython3",
   "version": "3.11.5"
  }
 },
 "nbformat": 4,
 "nbformat_minor": 5
}
